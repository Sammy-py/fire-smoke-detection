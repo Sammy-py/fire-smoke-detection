{
  "cells": [
    {
      "cell_type": "markdown",
      "metadata": {
        "id": "view-in-github",
        "colab_type": "text"
      },
      "source": [
        "<a href=\"https://colab.research.google.com/github/Sammy-py/fire-smoke-detection/blob/main/demo/inference_for_yolov5.ipynb\" target=\"_parent\"><img src=\"https://colab.research.google.com/assets/colab-badge.svg\" alt=\"Open In Colab\"/></a>"
      ]
    },
    {
      "cell_type": "markdown",
      "metadata": {
        "id": "bm-kB-62SSU9"
      },
      "source": [
        "[![Open In Colab](https://colab.research.google.com/assets/colab-badge.svg)](https://colab.research.google.com/github/obss/sahi/blob/main/demo/inference_for_yolov5.ipynb)"
      ]
    },
    {
      "cell_type": "markdown",
      "metadata": {
        "id": "q_13s06pSSVB"
      },
      "source": [
        "## 0. Preperation"
      ]
    },
    {
      "cell_type": "markdown",
      "metadata": {
        "id": "2OGDhFHCSSVC"
      },
      "source": [
        "- MODEL İÇİN SAHI YOLOV5 İNDİR, SONUNDA COLABI YENİDEN BAŞLATIN"
      ]
    },
    {
      "cell_type": "code",
      "execution_count": null,
      "metadata": {
        "id": "fRnR2tQ3SSVD"
      },
      "outputs": [],
      "source": [
        "!pip install -U torch sahi yolov5"
      ]
    },
    {
      "cell_type": "code",
      "source": [
        "from google.colab import drive\n",
        "drive.mount('/content/drive')"
      ],
      "metadata": {
        "id": "mE4hGs7Ae6Ui",
        "outputId": "866fcc0d-bb54-4ca1-e7d7-4a0640eb7ac2",
        "colab": {
          "base_uri": "https://localhost:8080/"
        }
      },
      "execution_count": 41,
      "outputs": [
        {
          "output_type": "stream",
          "name": "stdout",
          "text": [
            "Mounted at /content/drive\n"
          ]
        }
      ]
    },
    {
      "cell_type": "code",
      "execution_count": 1,
      "metadata": {
        "id": "x-YzunArSSVE",
        "outputId": "27706302-b121-4e7c-f0d4-6aab4896bec1",
        "colab": {
          "base_uri": "https://localhost:8080/",
          "height": 36
        }
      },
      "outputs": [
        {
          "output_type": "execute_result",
          "data": {
            "application/vnd.google.colaboratory.intrinsic+json": {
              "type": "string"
            },
            "text/plain": [
              "'/content'"
            ]
          },
          "metadata": {},
          "execution_count": 1
        }
      ],
      "source": [
        "import os\n",
        "os.getcwd()"
      ]
    },
    {
      "cell_type": "markdown",
      "metadata": {
        "id": "HnxOFGagSSVF"
      },
      "source": [
        "- GEREKLİ PAKETLERİN İNDİRİLMESİ"
      ]
    },
    {
      "cell_type": "code",
      "execution_count": 2,
      "metadata": {
        "id": "7u5Oc0XbSSVG"
      },
      "outputs": [],
      "source": [
        "# arrange an instance segmentation model for test\n",
        "from sahi.utils.yolov5 import (\n",
        "    download_yolov5s6_model,\n",
        ")\n",
        "\n",
        "# import required functions, classes\n",
        "from sahi.model import Yolov5DetectionModel\n",
        "from sahi.utils.cv import read_image\n",
        "from sahi.utils.file import download_from_url\n",
        "from sahi.predict import get_prediction, get_sliced_prediction, predict\n",
        "from IPython.display import Image"
      ]
    },
    {
      "cell_type": "markdown",
      "metadata": {
        "id": "XEi9dlSHSSVH"
      },
      "source": [
        "- EĞİTİLEN MODELİNİN EKLENMESİ"
      ]
    },
    {
      "cell_type": "code",
      "source": [
        "yolov5_model_path = '/content/best.pt'"
      ],
      "metadata": {
        "id": "KNT4YNjpUcj2"
      },
      "execution_count": 3,
      "outputs": []
    },
    {
      "cell_type": "markdown",
      "metadata": {
        "id": "gx_6SDLFSSVJ"
      },
      "source": [
        "## 1. Standard Inference with a YOLOv5 Model"
      ]
    },
    {
      "cell_type": "markdown",
      "metadata": {
        "id": "NvJjEZCoSSVK"
      },
      "source": [
        "- Instantiate a detection model by defining model weight path and other parameters:"
      ]
    },
    {
      "cell_type": "code",
      "execution_count": null,
      "metadata": {
        "id": "azGTFJ7VSSVK"
      },
      "outputs": [],
      "source": [
        "detection_model = Yolov5DetectionModel(\n",
        "    model_path=yolov5_model_path,\n",
        "    confidence_threshold=0.1,\n",
        "    device=\"cpu\", # or 'cuda:0'\n",
        ")"
      ]
    },
    {
      "cell_type": "markdown",
      "metadata": {
        "id": "tQoh8DHLSSVL"
      },
      "source": [
        "- MODELİN RESİMLER ÜZERİNDE UYGULANMASI"
      ]
    },
    {
      "cell_type": "code",
      "execution_count": null,
      "metadata": {
        "id": "y8XYhM32SSVM"
      },
      "outputs": [],
      "source": [
        "result = get_prediction(\"/content/053_rgb.png\", detection_model)"
      ]
    },
    {
      "cell_type": "code",
      "execution_count": null,
      "metadata": {
        "id": "HoOSKpRJSSVN"
      },
      "outputs": [],
      "source": [
        "result.export_visuals(export_dir=\"demo_data/\")\n",
        "\n",
        "Image(\"demo_data/prediction_visual.png\")"
      ]
    },
    {
      "cell_type": "markdown",
      "metadata": {
        "id": "stMxsLfNSSVO"
      },
      "source": [
        "## 2. Sliced Inference with a YOLOv5 Model"
      ]
    },
    {
      "cell_type": "markdown",
      "metadata": {
        "id": "K5p0wDwoSSVP"
      },
      "source": [
        "- YENİDEN BOYUTLANDIRMA"
      ]
    },
    {
      "cell_type": "code",
      "execution_count": null,
      "metadata": {
        "id": "3VMi0OrmSSVP"
      },
      "outputs": [],
      "source": [
        "result = get_sliced_prediction(\n",
        "    \"/content/fireBig1035.jpg\",\n",
        "    detection_model,\n",
        "    slice_height = 256,\n",
        "    slice_width = 256,\n",
        "    overlap_height_ratio = 0.2,\n",
        "    overlap_width_ratio = 0.2\n",
        ")"
      ]
    },
    {
      "cell_type": "markdown",
      "metadata": {
        "id": "19kWPURcSSVQ"
      },
      "source": [
        "- RESMİ demo_data KLASÖRÜNE, prediction_visual.png ADINDA KAYIT ET"
      ]
    },
    {
      "cell_type": "code",
      "execution_count": null,
      "metadata": {
        "id": "MkS1mNiySSVQ"
      },
      "outputs": [],
      "source": [
        "result.export_visuals(export_dir=\"demo_data/\")\n",
        "\n",
        "Image(\"demo_data/prediction_visual.png\")"
      ]
    },
    {
      "cell_type": "markdown",
      "metadata": {
        "id": "J3nqfVxKSSVQ"
      },
      "source": [
        "## 3. Prediction Result"
      ]
    },
    {
      "cell_type": "markdown",
      "metadata": {
        "id": "HgROW6LZSSVR"
      },
      "source": [
        "- Nesne Tahmin"
      ]
    },
    {
      "cell_type": "code",
      "execution_count": 38,
      "metadata": {
        "id": "GLBs57k8SSVR"
      },
      "outputs": [],
      "source": [
        "object_prediction_list = result.object_prediction_list"
      ]
    },
    {
      "cell_type": "code",
      "execution_count": 39,
      "metadata": {
        "id": "dzDhX3vPSSVR",
        "outputId": "b8d7bf6b-5a3c-4365-9c41-465c298da2a7",
        "colab": {
          "base_uri": "https://localhost:8080/"
        }
      },
      "outputs": [
        {
          "output_type": "execute_result",
          "data": {
            "text/plain": [
              "ObjectPrediction<\n",
              "    bbox: BoundingBox: <(539, 601, 786, 658), w: 247, h: 57>,\n",
              "    mask: None,\n",
              "    score: PredictionScore: <value: 0.5061761736869812>,\n",
              "    category: Category: <id: 0, name: fire>>"
            ]
          },
          "metadata": {},
          "execution_count": 39
        }
      ],
      "source": [
        "object_prediction_list[0]"
      ]
    }
  ],
  "metadata": {
    "kernelspec": {
      "display_name": "Python3.8 (sahi)",
      "language": "python",
      "name": "sahi"
    },
    "language_info": {
      "codemirror_mode": {
        "name": "ipython",
        "version": 3
      },
      "file_extension": ".py",
      "mimetype": "text/x-python",
      "name": "python",
      "nbconvert_exporter": "python",
      "pygments_lexer": "ipython3",
      "version": "3.8.8"
    },
    "colab": {
      "name": "inference_for_yolov5.ipynb",
      "provenance": [],
      "include_colab_link": true
    }
  },
  "nbformat": 4,
  "nbformat_minor": 0
}